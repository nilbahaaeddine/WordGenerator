{
 "cells": [
  {
   "cell_type": "markdown",
   "metadata": {},
   "source": [
    "# TP2"
   ]
  },
  {
   "cell_type": "code",
   "execution_count": null,
   "metadata": {},
   "outputs": [],
   "source": [
    "import re\n",
    "import requests\n",
    "\n",
    "from IPython.display import clear_output\n",
    "from bs4 import BeautifulSoup"
   ]
  },
  {
   "cell_type": "markdown",
   "metadata": {},
   "source": [
    "# Déclarations des fonctions"
   ]
  },
  {
   "cell_type": "code",
   "execution_count": null,
   "metadata": {},
   "outputs": [],
   "source": [
    "# Enlever une certains caractères dans une chaine de caractère\n",
    "def rchop(thestring, ending):\n",
    "    if thestring.endswith(ending):\n",
    "        return thestring[:-len(ending)]\n",
    "    return thestring\n",
    "\n",
    "# Fonction d'affichage\n",
    "def info(*args, **kwargs):\n",
    "    rulesArg = kwargs.get(\"rulesArg\", False)\n",
    "    wordArg = kwargs.get(\"wordArg\", True)\n",
    "    resultArg = kwargs.get(\"resultArg\", True)\n",
    "    \n",
    "    if(rulesArg):\n",
    "        print(f'\\nLes règles :')\n",
    "        pprint(rules)\n",
    "\n",
    "    if(wordArg):\n",
    "        print(f'\\nLe mot : {testWord}')\n",
    "\n",
    "    if(resultArg):\n",
    "        print(f'\\nLes dérivations :')\n",
    "        for n in result.items():\n",
    "            print(str(n).replace(',', ' ->'))"
   ]
  },
  {
   "cell_type": "code",
   "execution_count": null,
   "metadata": {
    "scrolled": false
   },
   "outputs": [],
   "source": [
    "# Déclarations des variables\n",
    "nature = {'Verbe': 'V', 'Nom': 'N', 'Adjectif': 'ADJ', 'Nom propre': 'NP'}\n",
    "rules = []\n",
    "result = {}\n",
    "\n",
    "# Lecture du mot\n",
    "print(f'Entrer le mot : ')\n",
    "testWord = input()\n",
    "\n",
    "# Effacer les outputs\n",
    "clear_output(wait = False)\n",
    "\n",
    "# Lecture de la nature du mot\n",
    "print(f'Veuillez choisir la nature du mot dans la liste ci-dessous : ')\n",
    "for (key, value) in nature.items():\n",
    "    print(f'\\t{value} pour {key}')\n",
    "natureWord = input()\n",
    "\n",
    "# Effacer les outputs\n",
    "clear_output(wait = False)\n",
    "\n",
    "# Ouverture du fichier\n",
    "file = open(\"rules.txt\", \"r\")\n",
    "\n",
    "# Lecture du fichier & enregistrement des règles\n",
    "if file.mode == 'r':\n",
    "    lines = file.readlines()\n",
    "    for line in lines:\n",
    "        rules.append(line.rstrip(\"\\n\").split(\"==>\"))\n",
    "\n",
    "# Fermeture du fichier\n",
    "file.close()\n",
    "\n",
    "# Génération des mots et leur nature\n",
    "for rule in rules:\n",
    "    ruleG = rule[0].split(\":\")\n",
    "    ruleD = rule[1].split(\":\")\n",
    "    match = re.match(\".*\" + ruleG[1], testWord)\n",
    "    if match and ruleG[0] == natureWord:\n",
    "        if ruleG[1] != \"\":\n",
    "            generatedWord = rchop(testWord, ruleG[1]) + ruleD[1]\n",
    "            result[generatedWord] = ruleD[0]\n",
    "        else:\n",
    "            generatedWord = testWord + ruleD[1]\n",
    "            result[generatedWord] = ruleD[0]\n",
    "\n",
    "# Fonction d'affichage (avec possibilité d'afficher que ce qui nous intéresse)\n",
    "info(rulesArg = False, wordArg = False, resultArg = False)"
   ]
  },
  {
   "cell_type": "code",
   "execution_count": null,
   "metadata": {},
   "outputs": [],
   "source": [
    "final = []\n",
    "for word in result:\n",
    "    # Envoie de la requete à jdm\n",
    "    url = \"http://www.jeuxdemots.org/rezo-dump.php?gotermsubmit=Chercher&gotermrel=\" + str(word) + \"&rel=\"\n",
    "    \n",
    "    # Reponse de la requete\n",
    "    response = requests.get(url)\n",
    "    \n",
    "    # bs4\n",
    "    soup = BeautifulSoup(response.text, features = 'lxml')\n",
    "    \n",
    "    # Chercher la balise \"jdm-warning\"\n",
    "    mydivs = soup.findAll(\"div\", {\"class\": \"jdm-warning\"})\n",
    "    \n",
    "    if(mydivs): # if jdm-warning existe (mot invalide)\n",
    "        print(f'le mot {word} n\\'existe pas\\n')\n",
    "    else: # else (mot valide)\n",
    "        print(f'le mot {word} existe\\n')    \n",
    "        final.append(word)\n",
    "    \n",
    "if(final):\n",
    "    print('Les mots valides sont :')\n",
    "    for f in final:\n",
    "        print(f'\\t{f} : {result[f]}')\n",
    "else:\n",
    "    print('Aucun mot n\\'est valide')"
   ]
  },
  {
   "cell_type": "code",
   "execution_count": null,
   "metadata": {},
   "outputs": [],
   "source": [
    "print(testWord)\n",
    "    \n",
    "relation_map = {'AGENT': '13', 'LIEU' : '15', 'N': '4'}\n",
    "\n",
    "for f in final:\n",
    "    print(f'\\t{f} : {result[f]}')\n",
    "    url = \"http://www.jeuxdemots.org/rezo-dump.php?gotermsubmit=Chercher&gotermrel=\" + str(testWord) + \"&rel=\" + str(relation_map[result[f]])\n",
    "    print(url)\n",
    "    \n",
    "    # On cherche si la relation existe dans la balise code"
   ]
  }
 ],
 "metadata": {
  "kernelspec": {
   "display_name": "Python 3",
   "language": "python",
   "name": "python3"
  },
  "language_info": {
   "codemirror_mode": {
    "name": "ipython",
    "version": 3
   },
   "file_extension": ".py",
   "mimetype": "text/x-python",
   "name": "python",
   "nbconvert_exporter": "python",
   "pygments_lexer": "ipython3",
   "version": "3.7.4"
  }
 },
 "nbformat": 4,
 "nbformat_minor": 2
}

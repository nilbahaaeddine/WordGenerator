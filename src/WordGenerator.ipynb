{
 "cells": [
  {
   "cell_type": "markdown",
   "metadata": {},
   "source": [
    "<div align=\"center\"><h1> Projet HMIN230 </h1></div>\n",
    "<div align=\"center\"><h2> automatique de la langue naturelle </h2></div>\n",
    "<h2>Membres du groupe</h2>\n",
    "<ul>\n",
    "    <li>Meriem AMERAOUI</li>\n",
    "    <li>Dounia BELABIOD</li>\n",
    "    <li>Bahaa Eddine NIL</li>\n",
    "</ul>"
   ]
  },
  {
   "cell_type": "markdown",
   "metadata": {},
   "source": [
    "<div class=\"alert alert-block alert-info\" align=\"center\">\n",
    "    <h1>\n",
    "        Imports\n",
    "    </h1>\n",
    "</div>"
   ]
  },
  {
   "cell_type": "code",
   "execution_count": 1,
   "metadata": {},
   "outputs": [],
   "source": [
    "import re\n",
    "import requests\n",
    "import io\n",
    "import itertools\n",
    "import random\n",
    "\n",
    "from IPython.display import clear_output\n",
    "from bs4 import BeautifulSoup"
   ]
  },
  {
   "cell_type": "markdown",
   "metadata": {},
   "source": [
    "<div class=\"alert alert-block alert-info\" align=\"center\">\n",
    "    <h1>\n",
    "        Fonctions\n",
    "    </h1>\n",
    "</div>"
   ]
  },
  {
   "cell_type": "code",
   "execution_count": 2,
   "metadata": {},
   "outputs": [],
   "source": [
    "# Enlever une certains caractères dans une chaine de caractère\n",
    "def rchop(thestring, ending):\n",
    "    if thestring.endswith(ending):\n",
    "        return thestring[:-len(ending)]\n",
    "    return thestring\n",
    "\n",
    "# Fonction d'affichage de règles\n",
    "def print_rules(bla):\n",
    "    for rule in bla:\n",
    "        print(str(rule).replace(', ', '==>'))\n",
    "\n",
    "# Fonction d'affichage de mots\n",
    "def print_results(bla):\n",
    "    if(bla):\n",
    "        for n in bla.items():\n",
    "            temp = str(n).replace(\", [\", \" de nature \").replace(\"[\", \"\").replace(\"]\", \"\").replace(\"'\", \"\").replace(\"(\", \"\").replace(\")\", \"\")\n",
    "            print(f'\\t{temp}')\n",
    "    else:\n",
    "        print('\\tAucun')\n",
    "\n",
    "# Génération des dictionnaires\n",
    "def generate_dict(key, value):\n",
    "    dicot = {}\n",
    "    flag = False\n",
    "    dicot.setdefault(key, [])\n",
    "    if(len(dicot[key]) != 0):\n",
    "        for n in dicot[key]:\n",
    "            if(n == value):\n",
    "                flag = True\n",
    "        if(not flag):\n",
    "            dicot[key].append(value)\n",
    "    else:\n",
    "        dicot[key].append(value)\n",
    "    return dicot"
   ]
  },
  {
   "cell_type": "markdown",
   "metadata": {},
   "source": [
    "<div class=\"alert alert-block alert-info\" align=\"center\">\n",
    "    <h1>\n",
    "        Génération des mots\n",
    "    </h1>\n",
    "</div>"
   ]
  },
  {
   "cell_type": "code",
   "execution_count": 3,
   "metadata": {
    "scrolled": false
   },
   "outputs": [
    {
     "name": "stdout",
     "output_type": "stream",
     "text": [
      "\n",
      "Les dérivations du mot  'lait' :\n",
      "\tlaitaison de nature N\n",
      "\tlaitable de nature ADJ\n",
      "\tlaitage de nature N\n",
      "\tlaitisme de nature N\n",
      "\tlaitiste de nature N\n",
      "\tlaitir de nature V\n",
      "\tlaitaire de nature N\n",
      "\tlaitiaire de nature N\n",
      "\tlaitale de nature ADJ\n",
      "\tlaital de nature ADJ\n",
      "\tlaitelle de nature ADJ\n",
      "\tlaitacé de nature ADJ\n",
      "\tlaitan de nature ADJ\n",
      "\tlaitane de nature ADJ\n",
      "\tlaitain de nature ADJ\n",
      "\tlaitaine de nature ADJ\n",
      "\tlaitard de nature N\n",
      "\tlaitarde de nature N\n"
     ]
    }
   ],
   "source": [
    "# Déclarations des variables\n",
    "nature = {'Verbe': 'V', 'Nom': 'N', 'Adjectif': 'ADJ', 'Nom propre': 'NP'}\n",
    "rules = []\n",
    "words_list1 = {}\n",
    "\n",
    "# Lecture du mot\n",
    "print(f'Entrer le mot : ')\n",
    "testWord = input()\n",
    "clear_output(wait = False)\n",
    "\n",
    "# Lecture de la nature du mot\n",
    "print(f'Veuillez choisir la nature du mot dans la liste ci-dessous : ')\n",
    "for (key, value) in nature.items():\n",
    "    print(f'\\t{value} pour {key}')\n",
    "natureWord = input()\n",
    "clear_output(wait = False)\n",
    "while natureWord not in nature.values():\n",
    "    print(f'Veuillez choisir la nature du mot dans la liste ci-dessous : ')\n",
    "    for (key, value) in nature.items():\n",
    "        print(f'\\t{value} pour {key}')\n",
    "    natureWord = input()\n",
    "    clear_output(wait = False)\n",
    "\n",
    "# Ouverture du fichier\n",
    "file = open(\"rules.txt\", \"r\")\n",
    "\n",
    "# Lecture du fichier & enregistrement des règles\n",
    "if file.mode == 'r':\n",
    "    lines = file.readlines()\n",
    "    for line in lines:\n",
    "        rules.append(line.rstrip(\"\\n\").split(\"==>\"))\n",
    "\n",
    "# Fermeture du fichier\n",
    "file.close()\n",
    "\n",
    "# Génération des mots et leur nature\n",
    "for rule in rules:\n",
    "    flag = False\n",
    "    ruleG = rule[0].split(\":\")\n",
    "    ruleD = rule[1].split(\":\")\n",
    "    match = re.match(\".*\" + ruleG[1], testWord)\n",
    "    if match and ruleG[0] == natureWord:\n",
    "        if ruleG[1] != \"\":\n",
    "            generatedWord = rchop(testWord, ruleG[1]) + ruleD[1]\n",
    "        else:\n",
    "            generatedWord = testWord + ruleD[1]\n",
    "        words_list1.update(generate_dict(generatedWord, ruleD[0]))\n",
    "\n",
    "# Affichage des mots\n",
    "print(f'\\nLes dérivations du mot  \\'{testWord}\\' :')\n",
    "print_results(words_list1)\n",
    "\n",
    "# Affichage des règles\n",
    "#print_rules(rules)"
   ]
  },
  {
   "cell_type": "markdown",
   "metadata": {},
   "source": [
    "<div class=\"alert alert-block alert-info\" align=\"center\">\n",
    "    <h1>\n",
    "        Mots existants dans jeux de mots\n",
    "    </h1>\n",
    "</div>"
   ]
  },
  {
   "cell_type": "code",
   "execution_count": 4,
   "metadata": {},
   "outputs": [
    {
     "name": "stdout",
     "output_type": "stream",
     "text": [
      "Les mots existants dans jeux de mots :\n",
      "\tlaitage de nature N\n"
     ]
    }
   ],
   "source": [
    "words_list2 = {}\n",
    "\n",
    "for word in words_list1:\n",
    "    # Envoie de la requete à jdm\n",
    "    url = \"http://www.jeuxdemots.org/rezo-dump.php?gotermsubmit=Chercher&gotermrel=\" + str(word) + \"&rel=\"\n",
    "    \n",
    "    # Reponse de la requete\n",
    "    response = requests.get(url)\n",
    "    \n",
    "    # bs4\n",
    "    soup = BeautifulSoup(response.text, features = 'lxml')\n",
    "    \n",
    "    # Chercher la balise \"jdm-warning\"\n",
    "    mydivs = soup.findAll(\"div\", {\"class\": \"jdm-warning\"})\n",
    "    \n",
    "    # On ajoute le mot si jdm-warning n'existe pas\n",
    "    if(not mydivs):\n",
    "        words_list2.update(generate_dict(word, words_list1[word]))\n",
    "\n",
    "# Affichage des mots\n",
    "print('Les mots existants dans jeux de mots :')\n",
    "print_results(words_list2)"
   ]
  },
  {
   "cell_type": "markdown",
   "metadata": {},
   "source": [
    "<div class=\"alert alert-block alert-info\" align=\"center\">\n",
    "    <h1>\n",
    "        Mots en relation avec le mot de base\n",
    "    </h1>\n",
    "</div>"
   ]
  },
  {
   "cell_type": "code",
   "execution_count": 5,
   "metadata": {},
   "outputs": [
    {
     "name": "stdout",
     "output_type": "stream",
     "text": [
      "Les mots existants dans jeux de mots qui sont en relation (r0) avec le mot 'lait' :\n",
      "\tlaitage de nature N\n"
     ]
    }
   ],
   "source": [
    "words_list3 = {}\n",
    "\n",
    "for word in words_list2:\n",
    "    a1 = ''\n",
    "    # Envoie de la requete à jdm\n",
    "    url = \"http://www.jeuxdemots.org/rezo-dump.php?gotermsubmit=Chercher&gotermrel=\" + str(testWord) + \"&rel=0\"\n",
    "    \n",
    "    # Reponse de la requete\n",
    "    response = requests.get(url)\n",
    "\n",
    "    # bs4\n",
    "    soup = BeautifulSoup(response.text, features = 'lxml')\n",
    "\n",
    "    # Chercher la balise CODE\n",
    "    mycode = soup.find('code')\n",
    "\n",
    "    # Parcourir la balise CODE\n",
    "    s = io.StringIO(str(mycode))\n",
    "    for line in s:        \n",
    "        if(re.match('e;.*;\\'' + word + '\\';.*;.*', line)):\n",
    "            a1 = line.split(';')[1]\n",
    "    \n",
    "        if(a1):\n",
    "            words_list3.update(generate_dict(word, words_list1[word]))\n",
    "\n",
    "# Affichage des mots\n",
    "print(f'Les mots existants dans jeux de mots qui sont en relation (r0) avec le mot \\'{testWord}\\' :')\n",
    "print_results(words_list3)"
   ]
  },
  {
   "cell_type": "markdown",
   "metadata": {},
   "source": [
    "<div class=\"alert alert-block alert-info\" align=\"center\">\n",
    "    <h1>\n",
    "        Mots finaux\n",
    "    </h1>\n",
    "</div>"
   ]
  },
  {
   "cell_type": "code",
   "execution_count": 6,
   "metadata": {
    "scrolled": false
   },
   "outputs": [
    {
     "name": "stdout",
     "output_type": "stream",
     "text": [
      "Les mots finaux sont :\n",
      "\tlaitage de nature N\n"
     ]
    }
   ],
   "source": [
    "relation_map = {'AGENT': '13', 'LIEU' : '15', 'N': '4', 'V': '4', 'ADJ': '4', 'ADV': '4'}\n",
    "type_map = {'N': 'Nom:', 'V' : 'Ver:', 'ADJ' : 'Adj:'}\n",
    "words_list4 = {}\n",
    "\n",
    "for f in words_list3:   \n",
    "    for k in itertools.chain.from_iterable(words_list3[f]):\n",
    "        a1 = ''\n",
    "        a2 = ''\n",
    "        if(int(relation_map[k]) == 4):\n",
    "            url = \"http://www.jeuxdemots.org/rezo-dump.php?gotermsubmit=Chercher&gotermrel=\" + str(f) + \"&rel=\" + str(relation_map[k])\n",
    "\n",
    "            # Reponse de la requete\n",
    "            response = requests.get(url)\n",
    "\n",
    "            # bs4\n",
    "            soup = BeautifulSoup(response.text, features = 'lxml')\n",
    "            \n",
    "            # Chercher la balise CODE\n",
    "            mycode = soup.find('code')\n",
    "\n",
    "            # Parcourir la balise CODE\n",
    "            s = io.StringIO(str(mycode))\n",
    "            for line in s:                \n",
    "                if(re.match('e;.*;\\'' + f + '\\';.*;.*', line)):\n",
    "                    a1 = line.split(';')[1]\n",
    "                if(re.match('e;.*;\\'' + str(type_map[k]) + '\\';.*;.*', line)):\n",
    "                    a2 = line.split(';')[1]\n",
    "                if(a2):\n",
    "                    if(re.match('r;.*;' + a1 + ';' + a2 + ';4;.*', line)):\n",
    "                        if(int(line.split(';')[5]) > 0):\n",
    "                            words_list4.update(generate_dict(f, k))\n",
    "        else:\n",
    "            url = \"http://www.jeuxdemots.org/rezo-dump.php?gotermsubmit=Chercher&gotermrel=\" + str(testWord) + \"&rel=\" + str(relation_map[k])\n",
    "\n",
    "            # Reponse de la requete\n",
    "            response = requests.get(url)\n",
    "\n",
    "            # bs4\n",
    "            soup = BeautifulSoup(response.text, features = 'lxml')\n",
    "\n",
    "            # Chercher la balise CODE\n",
    "            mycode = soup.find('code')\n",
    "\n",
    "            # Parcourir la balise CODE\n",
    "            s = io.StringIO(str(mycode))\n",
    "            for line in s:\n",
    "                if(re.match('e;.*;\\'' + testWord + '\\';.*;.*', line)):\n",
    "                    a1 = line.split(';')[1]\n",
    "                if(re.match('e;.*;\\'' + f + '\\';.*;.*', line)):\n",
    "                    a2 = line.split(';')[1]\n",
    "\n",
    "                if(int(relation_map[k]) == 13):\n",
    "                    if(re.match('r;.*;' + a1 + ';' + a2 + ';13;.*', line)):\n",
    "                        if(int(line.split(';')[5]) > 0):\n",
    "                            words_list4.update(generate_dict(f, k))\n",
    "\n",
    "                if(int(relation_map[k]) == 15):\n",
    "                    if(re.match('r;.*;' + a1 + ';' + a2 + ';15;.*', line)):\n",
    "                        if(int(line.split(';')[5]) > 0):\n",
    "                            words_list4.update(generate_dict(f, k))\n",
    "\n",
    "# Affichage des mots\n",
    "print('Les mots finaux sont :')\n",
    "print_results(words_list4)"
   ]
  }
 ],
 "metadata": {
  "kernelspec": {
   "display_name": "Python 3",
   "language": "python",
   "name": "python3"
  },
  "language_info": {
   "codemirror_mode": {
    "name": "ipython",
    "version": 3
   },
   "file_extension": ".py",
   "mimetype": "text/x-python",
   "name": "python",
   "nbconvert_exporter": "python",
   "pygments_lexer": "ipython3",
   "version": "3.7.4"
  }
 },
 "nbformat": 4,
 "nbformat_minor": 2
}

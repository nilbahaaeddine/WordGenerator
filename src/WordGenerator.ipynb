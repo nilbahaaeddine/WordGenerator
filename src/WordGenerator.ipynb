{
 "cells": [
  {
   "cell_type": "markdown",
   "metadata": {},
   "source": [
    "# TP2"
   ]
  },
  {
   "cell_type": "code",
   "execution_count": null,
   "metadata": {},
   "outputs": [],
   "source": [
    "import re\n",
    "import tkinter as tk\n",
    "import selenium\n",
    "import requests\n",
    "\n",
    "from pprint import pprint\n",
    "from IPython.display import clear_output\n",
    "from selenium import webdriver\n",
    "from bs4 import BeautifulSoup"
   ]
  },
  {
   "cell_type": "code",
   "execution_count": null,
   "metadata": {
    "scrolled": false
   },
   "outputs": [],
   "source": [
    "# Déclarations des fonctions\n",
    "def rchop(thestring, ending):\n",
    "    if thestring.endswith(ending):\n",
    "        return thestring[:-len(ending)]\n",
    "    return thestring\n",
    "\n",
    "def generer(*args, **kwargs):\n",
    "    rulesArg = kwargs.get(\"rulesArg\", True)\n",
    "    wordArg = kwargs.get(\"wordArg\", True)\n",
    "    resultArg = kwargs.get(\"resultArg\", True)\n",
    "    \n",
    "    if(rulesArg):\n",
    "        print(f'\\nLes règles :')\n",
    "        pprint(rules)\n",
    "\n",
    "    if(wordArg):\n",
    "        print(f'\\nLe mot : {testWord}')\n",
    "\n",
    "    if(resultArg):\n",
    "        print(f'\\nLes dérivations :')\n",
    "        pprint(result)\n",
    "\n",
    "# Déclarations des variables & lecture mot & nature du mot\n",
    "rules = []\n",
    "result = {}\n",
    "\n",
    "testWord = input()\n",
    "natureWord = input()\n",
    "\n",
    "# Clear output\n",
    "clear_output(wait = True)\n",
    "\n",
    "# Ouverture du fichier\n",
    "file = open(\"rules.txt\", \"r\")\n",
    "\n",
    "# Lecture du fichier & enregistrement des règles\n",
    "if file.mode == 'r':\n",
    "    lines = file.readlines()\n",
    "    for line in lines:\n",
    "        rules.append(line.rstrip(\"\\n\").split(\"==>\"))\n",
    "\n",
    "# Fermeture du fichier\n",
    "file.close()\n",
    "\n",
    "# Génération des mots et leur nature\n",
    "for rule in rules:\n",
    "    ruleG = rule[0].split(\":\")\n",
    "    ruleD = rule[1].split(\":\")\n",
    "    match = re.match(\".*\" + ruleG[1], testWord)\n",
    "    if match and ruleG[0] == natureWord:\n",
    "        if ruleG[1] != \"\":\n",
    "            generatedWord = rchop(testWord, ruleG[1]) + ruleD[1]\n",
    "            result[generatedWord] = ruleD[0]\n",
    "        else:\n",
    "            generatedWord = testWord + ruleD[1]\n",
    "            result[generatedWord] = ruleD[0]\n",
    "\n",
    "# Display : set arguments (rulesArg, wordArg and resultArg) to false to desactivate displaying corresponding information\n",
    "generer()"
   ]
  },
  {
   "cell_type": "code",
   "execution_count": null,
   "metadata": {},
   "outputs": [],
   "source": [
    "final = []\n",
    "for word in result:\n",
    "    # Send a request to jdm\n",
    "    url = \"http://www.jeuxdemots.org/rezo-dump.php?gotermsubmit=Chercher&gotermrel=\" + str(word) + \"&rel=\"\n",
    "    \n",
    "    # Get the response\n",
    "    response = requests.get(url)\n",
    "    \n",
    "    # Printing html\n",
    "    #print(response.text)\n",
    "    \n",
    "    # bs4\n",
    "    soup = BeautifulSoup(response.text)\n",
    "    \n",
    "    # Searching for jdm-warning\n",
    "    mydivs = soup.findAll(\"div\", {\"class\": \"jdm-warning\"})\n",
    "    \n",
    "    # Printing result\n",
    "    #print(mydivs)\n",
    "    \n",
    "    if(mydivs): # if jdm-warning exist (not a word)\n",
    "        print(f'le mot {word} n\\'existe pas\\n')\n",
    "    else: # else (word exist)\n",
    "        print(f'le mot {word} existe\\n')\n",
    "        final.append(word)\n",
    "\n",
    "print(final)"
   ]
  },
  {
   "cell_type": "code",
   "execution_count": null,
   "metadata": {
    "scrolled": false
   },
   "outputs": [],
   "source": [
    "#Envoie de requete à jeux de mots\n",
    "url = \"http://www.jeuxdemots.org/rezo-dump.php?gotermsubmit=Chercher&gotermrel=\" + str(testWord) + \"&rel=\"\n",
    "\n",
    "# Using Chrome to access web\n",
    "driver = webdriver.Chrome(executable_path=r'/mnt/c/Program Files/chromedriver/chromedriver.exe')\n",
    "\n",
    "# Open the website\n",
    "driver.get(url)\n",
    "\n",
    "# Find download button\n",
    "jdmSection = driver.find_element_by_class_name('jdm-warning')\n",
    "print(jdmSection)"
   ]
  }
 ],
 "metadata": {
  "kernelspec": {
   "display_name": "Python 3",
   "language": "python",
   "name": "python3"
  },
  "language_info": {
   "codemirror_mode": {
    "name": "ipython",
    "version": 3
   },
   "file_extension": ".py",
   "mimetype": "text/x-python",
   "name": "python",
   "nbconvert_exporter": "python",
   "pygments_lexer": "ipython3",
   "version": "3.7.4"
  }
 },
 "nbformat": 4,
 "nbformat_minor": 2
}
